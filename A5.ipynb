{
 "cells": [
  {
   "cell_type": "code",
   "execution_count": 4,
   "metadata": {},
   "outputs": [
    {
     "name": "stdout",
     "output_type": "stream",
     "text": [
      "Requirement already satisfied: jupyterlab in /anaconda3/lib/python3.7/site-packages (0.35.4)\n",
      "Requirement already satisfied: notebook>=4.3.1 in /anaconda3/lib/python3.7/site-packages (from jupyterlab) (5.7.8)\n",
      "Requirement already satisfied: jupyterlab_server<0.3.0,>=0.2.0 in /anaconda3/lib/python3.7/site-packages (from jupyterlab) (0.2.0)\n",
      "Requirement already satisfied: jsonschema>=2.6.0 in /anaconda3/lib/python3.7/site-packages (from jupyterlab_server<0.3.0,>=0.2.0->jupyterlab) (3.0.1)\n",
      "Requirement already satisfied: terminado>=0.8.1 in /anaconda3/lib/python3.7/site-packages (from notebook>=4.3.1->jupyterlab) (0.8.1)\n",
      "Requirement already satisfied: jupyter-core>=4.4.0 in /anaconda3/lib/python3.7/site-packages (from notebook>=4.3.1->jupyterlab) (4.4.0)\n",
      "Requirement already satisfied: nbformat in /anaconda3/lib/python3.7/site-packages (from notebook>=4.3.1->jupyterlab) (4.4.0)\n",
      "Requirement already satisfied: nbconvert in /anaconda3/lib/python3.7/site-packages (from notebook>=4.3.1->jupyterlab) (5.4.1)\n",
      "Requirement already satisfied: Send2Trash in /anaconda3/lib/python3.7/site-packages (from notebook>=4.3.1->jupyterlab) (1.5.0)\n",
      "Requirement already satisfied: jinja2 in /anaconda3/lib/python3.7/site-packages (from notebook>=4.3.1->jupyterlab) (2.10)\n",
      "Requirement already satisfied: pyzmq>=17 in /anaconda3/lib/python3.7/site-packages (from notebook>=4.3.1->jupyterlab) (18.0.0)\n",
      "Requirement already satisfied: tornado<7,>=4.1 in /anaconda3/lib/python3.7/site-packages (from notebook>=4.3.1->jupyterlab) (6.0.2)\n",
      "Requirement already satisfied: jupyter-client>=5.2.0 in /anaconda3/lib/python3.7/site-packages (from notebook>=4.3.1->jupyterlab) (5.2.4)\n",
      "Requirement already satisfied: prometheus-client in /anaconda3/lib/python3.7/site-packages (from notebook>=4.3.1->jupyterlab) (0.6.0)\n",
      "Requirement already satisfied: ipykernel in /anaconda3/lib/python3.7/site-packages (from notebook>=4.3.1->jupyterlab) (5.1.0)\n",
      "Requirement already satisfied: ipython-genutils in /anaconda3/lib/python3.7/site-packages (from notebook>=4.3.1->jupyterlab) (0.2.0)\n",
      "Requirement already satisfied: traitlets>=4.2.1 in /anaconda3/lib/python3.7/site-packages (from notebook>=4.3.1->jupyterlab) (4.3.2)\n",
      "Requirement already satisfied: attrs>=17.4.0 in /anaconda3/lib/python3.7/site-packages (from jsonschema>=2.6.0->jupyterlab_server<0.3.0,>=0.2.0->jupyterlab) (19.1.0)\n",
      "Requirement already satisfied: pyrsistent>=0.14.0 in /anaconda3/lib/python3.7/site-packages (from jsonschema>=2.6.0->jupyterlab_server<0.3.0,>=0.2.0->jupyterlab) (0.14.11)\n",
      "Requirement already satisfied: setuptools in /anaconda3/lib/python3.7/site-packages (from jsonschema>=2.6.0->jupyterlab_server<0.3.0,>=0.2.0->jupyterlab) (40.8.0)\n",
      "Requirement already satisfied: six>=1.11.0 in /anaconda3/lib/python3.7/site-packages (from jsonschema>=2.6.0->jupyterlab_server<0.3.0,>=0.2.0->jupyterlab) (1.12.0)\n",
      "Requirement already satisfied: python-dateutil>=2.1 in /anaconda3/lib/python3.7/site-packages (from jupyter-client>=5.2.0->notebook>=4.3.1->jupyterlab) (2.8.0)\n",
      "Requirement already satisfied: decorator in /anaconda3/lib/python3.7/site-packages (from traitlets>=4.2.1->notebook>=4.3.1->jupyterlab) (4.4.0)\n",
      "Requirement already satisfied: ipython>=5.0.0 in /anaconda3/lib/python3.7/site-packages (from ipykernel->notebook>=4.3.1->jupyterlab) (7.4.0)\n",
      "Requirement already satisfied: MarkupSafe>=0.23 in /anaconda3/lib/python3.7/site-packages (from jinja2->notebook>=4.3.1->jupyterlab) (1.1.1)\n",
      "Requirement already satisfied: mistune>=0.8.1 in /anaconda3/lib/python3.7/site-packages (from nbconvert->notebook>=4.3.1->jupyterlab) (0.8.4)\n",
      "Requirement already satisfied: pygments in /anaconda3/lib/python3.7/site-packages (from nbconvert->notebook>=4.3.1->jupyterlab) (2.3.1)\n",
      "Requirement already satisfied: entrypoints>=0.2.2 in /anaconda3/lib/python3.7/site-packages (from nbconvert->notebook>=4.3.1->jupyterlab) (0.3)\n",
      "Requirement already satisfied: bleach in /anaconda3/lib/python3.7/site-packages (from nbconvert->notebook>=4.3.1->jupyterlab) (3.1.0)\n",
      "Requirement already satisfied: pandocfilters>=1.4.1 in /anaconda3/lib/python3.7/site-packages (from nbconvert->notebook>=4.3.1->jupyterlab) (1.4.2)\n",
      "Requirement already satisfied: testpath in /anaconda3/lib/python3.7/site-packages (from nbconvert->notebook>=4.3.1->jupyterlab) (0.4.2)\n",
      "Requirement already satisfied: defusedxml in /anaconda3/lib/python3.7/site-packages (from nbconvert->notebook>=4.3.1->jupyterlab) (0.5.0)\n",
      "Requirement already satisfied: pexpect in /anaconda3/lib/python3.7/site-packages (from ipython>=5.0.0->ipykernel->notebook>=4.3.1->jupyterlab) (4.6.0)\n",
      "Requirement already satisfied: appnope in /anaconda3/lib/python3.7/site-packages (from ipython>=5.0.0->ipykernel->notebook>=4.3.1->jupyterlab) (0.1.0)\n",
      "Requirement already satisfied: backcall in /anaconda3/lib/python3.7/site-packages (from ipython>=5.0.0->ipykernel->notebook>=4.3.1->jupyterlab) (0.1.0)\n",
      "Requirement already satisfied: pickleshare in /anaconda3/lib/python3.7/site-packages (from ipython>=5.0.0->ipykernel->notebook>=4.3.1->jupyterlab) (0.7.5)\n",
      "Requirement already satisfied: prompt-toolkit<2.1.0,>=2.0.0 in /anaconda3/lib/python3.7/site-packages (from ipython>=5.0.0->ipykernel->notebook>=4.3.1->jupyterlab) (2.0.9)\n",
      "Requirement already satisfied: jedi>=0.10 in /anaconda3/lib/python3.7/site-packages (from ipython>=5.0.0->ipykernel->notebook>=4.3.1->jupyterlab) (0.13.3)\n",
      "Requirement already satisfied: webencodings in /anaconda3/lib/python3.7/site-packages (from bleach->nbconvert->notebook>=4.3.1->jupyterlab) (0.5.1)\n",
      "Requirement already satisfied: parso>=0.3.0 in /anaconda3/lib/python3.7/site-packages (from jedi>=0.10->ipython>=5.0.0->ipykernel->notebook>=4.3.1->jupyterlab) (0.3.4)\n",
      "Requirement already satisfied: wcwidth in /anaconda3/lib/python3.7/site-packages (from prompt-toolkit<2.1.0,>=2.0.0->ipython>=5.0.0->ipykernel->notebook>=4.3.1->jupyterlab) (0.1.7)\n",
      "Requirement already satisfied: ptyprocess>=0.5 in /anaconda3/lib/python3.7/site-packages (from pexpect->ipython>=5.0.0->ipykernel->notebook>=4.3.1->jupyterlab) (0.6.0)\n",
      "Note: you may need to restart the kernel to use updated packages.\n"
     ]
    }
   ],
   "source": [
    "pip install jupyterlab"
   ]
  },
  {
   "cell_type": "code",
   "execution_count": 5,
   "metadata": {},
   "outputs": [
    {
     "name": "stdout",
     "output_type": "stream",
     "text": [
      "Requirement already satisfied: altair in /anaconda3/lib/python3.7/site-packages (4.1.0)\n",
      "Requirement already satisfied: jinja2 in /anaconda3/lib/python3.7/site-packages (from altair) (2.10)\n",
      "Requirement already satisfied: jsonschema in /anaconda3/lib/python3.7/site-packages (from altair) (3.0.1)\n",
      "Requirement already satisfied: numpy in /anaconda3/lib/python3.7/site-packages (from altair) (1.16.2)\n",
      "Requirement already satisfied: pandas>=0.18 in /anaconda3/lib/python3.7/site-packages (from altair) (0.24.2)\n",
      "Requirement already satisfied: toolz in /anaconda3/lib/python3.7/site-packages (from altair) (0.9.0)\n",
      "Requirement already satisfied: entrypoints in /anaconda3/lib/python3.7/site-packages (from altair) (0.3)\n",
      "Requirement already satisfied: python-dateutil>=2.5.0 in /anaconda3/lib/python3.7/site-packages (from pandas>=0.18->altair) (2.8.0)\n",
      "Requirement already satisfied: pytz>=2011k in /anaconda3/lib/python3.7/site-packages (from pandas>=0.18->altair) (2018.9)\n",
      "Requirement already satisfied: MarkupSafe>=0.23 in /anaconda3/lib/python3.7/site-packages (from jinja2->altair) (1.1.1)\n",
      "Requirement already satisfied: attrs>=17.4.0 in /anaconda3/lib/python3.7/site-packages (from jsonschema->altair) (19.1.0)\n",
      "Requirement already satisfied: pyrsistent>=0.14.0 in /anaconda3/lib/python3.7/site-packages (from jsonschema->altair) (0.14.11)\n",
      "Requirement already satisfied: setuptools in /anaconda3/lib/python3.7/site-packages (from jsonschema->altair) (40.8.0)\n",
      "Requirement already satisfied: six>=1.11.0 in /anaconda3/lib/python3.7/site-packages (from jsonschema->altair) (1.12.0)\n",
      "Note: you may need to restart the kernel to use updated packages.\n"
     ]
    }
   ],
   "source": [
    "pip install altair\n"
   ]
  },
  {
   "cell_type": "code",
   "execution_count": 6,
   "metadata": {},
   "outputs": [
    {
     "name": "stdout",
     "output_type": "stream",
     "text": [
      "Requirement already satisfied: pip in /anaconda3/lib/python3.7/site-packages (21.3.1)\n",
      "Note: you may need to restart the kernel to use updated packages.\n"
     ]
    }
   ],
   "source": [
    "pip install --upgrade pip\n"
   ]
  },
  {
   "cell_type": "code",
   "execution_count": 10,
   "metadata": {},
   "outputs": [],
   "source": [
    "import altair as alt\n",
    "import pandas as pd"
   ]
  },
  {
   "cell_type": "code",
   "execution_count": 18,
   "metadata": {},
   "outputs": [],
   "source": [
    "household_4 = pd.read_csv(\"household_4.csv\")"
   ]
  },
  {
   "cell_type": "code",
   "execution_count": 21,
   "metadata": {},
   "outputs": [
    {
     "data": {
      "text/html": [
       "\n",
       "<div id=\"altair-viz-b368229965e2419aa91973d8cfb9e8f9\"></div>\n",
       "<script type=\"text/javascript\">\n",
       "  (function(spec, embedOpt){\n",
       "    let outputDiv = document.currentScript.previousElementSibling;\n",
       "    if (outputDiv.id !== \"altair-viz-b368229965e2419aa91973d8cfb9e8f9\") {\n",
       "      outputDiv = document.getElementById(\"altair-viz-b368229965e2419aa91973d8cfb9e8f9\");\n",
       "    }\n",
       "    const paths = {\n",
       "      \"vega\": \"https://cdn.jsdelivr.net/npm//vega@5?noext\",\n",
       "      \"vega-lib\": \"https://cdn.jsdelivr.net/npm//vega-lib?noext\",\n",
       "      \"vega-lite\": \"https://cdn.jsdelivr.net/npm//vega-lite@4.8.1?noext\",\n",
       "      \"vega-embed\": \"https://cdn.jsdelivr.net/npm//vega-embed@6?noext\",\n",
       "    };\n",
       "\n",
       "    function loadScript(lib) {\n",
       "      return new Promise(function(resolve, reject) {\n",
       "        var s = document.createElement('script');\n",
       "        s.src = paths[lib];\n",
       "        s.async = true;\n",
       "        s.onload = () => resolve(paths[lib]);\n",
       "        s.onerror = () => reject(`Error loading script: ${paths[lib]}`);\n",
       "        document.getElementsByTagName(\"head\")[0].appendChild(s);\n",
       "      });\n",
       "    }\n",
       "\n",
       "    function showError(err) {\n",
       "      outputDiv.innerHTML = `<div class=\"error\" style=\"color:red;\">${err}</div>`;\n",
       "      throw err;\n",
       "    }\n",
       "\n",
       "    function displayChart(vegaEmbed) {\n",
       "      vegaEmbed(outputDiv, spec, embedOpt)\n",
       "        .catch(err => showError(`Javascript Error: ${err.message}<br>This usually means there's a typo in your chart specification. See the javascript console for the full traceback.`));\n",
       "    }\n",
       "\n",
       "    if(typeof define === \"function\" && define.amd) {\n",
       "      requirejs.config({paths});\n",
       "      require([\"vega-embed\"], displayChart, err => showError(`Error loading script: ${err.message}`));\n",
       "    } else if (typeof vegaEmbed === \"function\") {\n",
       "      displayChart(vegaEmbed);\n",
       "    } else {\n",
       "      loadScript(\"vega\")\n",
       "        .then(() => loadScript(\"vega-lite\"))\n",
       "        .then(() => loadScript(\"vega-embed\"))\n",
       "        .catch(showError)\n",
       "        .then(() => displayChart(vegaEmbed));\n",
       "    }\n",
       "  })({\"config\": {\"view\": {\"continuousWidth\": 400, \"continuousHeight\": 300}}, \"data\": {\"name\": \"data-999e89c9e2f6ce6d00d53b6f3a19d97a\"}, \"mark\": \"point\", \"encoding\": {\"color\": {\"type\": \"nominal\", \"field\": \"date\"}, \"x\": {\"type\": \"quantitative\", \"field\": \"hour\"}, \"y\": {\"type\": \"quantitative\", \"field\": \"sum\"}}, \"selection\": {\"selector003\": {\"type\": \"interval\", \"bind\": \"scales\", \"encodings\": [\"x\", \"y\"]}}, \"$schema\": \"https://vega.github.io/schema/vega-lite/v4.8.1.json\", \"datasets\": {\"data-999e89c9e2f6ce6d00d53b6f3a19d97a\": [{\"hour\": 1, \"sum\": 2163881.434, \"date\": \"2012-12-25\"}, {\"hour\": 2, \"sum\": 2121174.07, \"date\": \"2012-12-25\"}, {\"hour\": 3, \"sum\": 2064181.119, \"date\": \"2012-12-25\"}, {\"hour\": 4, \"sum\": 2156494.97, \"date\": \"2012-12-25\"}, {\"hour\": 5, \"sum\": 1931142.608, \"date\": \"2012-12-25\"}, {\"hour\": 6, \"sum\": 2268039.54, \"date\": \"2012-12-25\"}, {\"hour\": 7, \"sum\": 2151166.134, \"date\": \"2012-12-25\"}, {\"hour\": 8, \"sum\": 2732402.207, \"date\": \"2012-12-25\"}, {\"hour\": 9, \"sum\": 2348506.226, \"date\": \"2012-12-25\"}, {\"hour\": 10, \"sum\": 1853977.003, \"date\": \"2012-12-25\"}, {\"hour\": 11, \"sum\": 1780246.406, \"date\": \"2012-12-25\"}, {\"hour\": 12, \"sum\": 1823114.8869999999, \"date\": \"2012-12-25\"}, {\"hour\": 13, \"sum\": 3720628.753, \"date\": \"2012-12-25\"}, {\"hour\": 14, \"sum\": 1895410.1, \"date\": \"2012-12-25\"}, {\"hour\": 15, \"sum\": 2012776.311, \"date\": \"2012-12-25\"}, {\"hour\": 16, \"sum\": 1789871.5659999999, \"date\": \"2012-12-25\"}, {\"hour\": 17, \"sum\": 2396169.03, \"date\": \"2012-12-25\"}, {\"hour\": 18, \"sum\": 2568483.0209999997, \"date\": \"2012-12-25\"}, {\"hour\": 19, \"sum\": 2928770.27, \"date\": \"2012-12-25\"}, {\"hour\": 20, \"sum\": 3219960.6180000002, \"date\": \"2012-12-25\"}, {\"hour\": 21, \"sum\": 2939272.1010000003, \"date\": \"2012-12-25\"}, {\"hour\": 22, \"sum\": 2966729.111, \"date\": \"2012-12-25\"}, {\"hour\": 23, \"sum\": 3290719.356, \"date\": \"2012-12-25\"}, {\"hour\": 24, \"sum\": 2504095.792, \"date\": \"2012-12-25\"}, {\"hour\": 1, \"sum\": 1307153.0459999999, \"date\": \"2013-01-01\"}, {\"hour\": 2, \"sum\": 1263197.695, \"date\": \"2013-01-01\"}, {\"hour\": 3, \"sum\": 790895.016, \"date\": \"2013-01-01\"}, {\"hour\": 4, \"sum\": 1071213.604, \"date\": \"2013-01-01\"}, {\"hour\": 5, \"sum\": 859823.195, \"date\": \"2013-01-01\"}, {\"hour\": 6, \"sum\": 981932.041, \"date\": \"2013-01-01\"}, {\"hour\": 7, \"sum\": 1032974.696, \"date\": \"2013-01-01\"}, {\"hour\": 8, \"sum\": 967734.9509999999, \"date\": \"2013-01-01\"}, {\"hour\": 9, \"sum\": 1046506.564, \"date\": \"2013-01-01\"}, {\"hour\": 10, \"sum\": 1456803.245, \"date\": \"2013-01-01\"}, {\"hour\": 11, \"sum\": 1158518.846, \"date\": \"2013-01-01\"}, {\"hour\": 12, \"sum\": 3718268.688, \"date\": \"2013-01-01\"}, {\"hour\": 13, \"sum\": 2174418.044, \"date\": \"2013-01-01\"}, {\"hour\": 14, \"sum\": 1524485.4880000001, \"date\": \"2013-01-01\"}, {\"hour\": 15, \"sum\": 2475685.375, \"date\": \"2013-01-01\"}, {\"hour\": 16, \"sum\": 1406259.22, \"date\": \"2013-01-01\"}, {\"hour\": 17, \"sum\": 1858253.499, \"date\": \"2013-01-01\"}, {\"hour\": 18, \"sum\": 2361774.582, \"date\": \"2013-01-01\"}, {\"hour\": 19, \"sum\": 3049194.038, \"date\": \"2013-01-01\"}, {\"hour\": 20, \"sum\": 2370964.442, \"date\": \"2013-01-01\"}, {\"hour\": 21, \"sum\": 2472578.801, \"date\": \"2013-01-01\"}, {\"hour\": 22, \"sum\": 2356962.732, \"date\": \"2013-01-01\"}, {\"hour\": 23, \"sum\": 2131193.117, \"date\": \"2013-01-01\"}, {\"hour\": 24, \"sum\": 1195802.655, \"date\": \"2013-01-01\"}]}}, {\"mode\": \"vega-lite\"});\n",
       "</script>"
      ],
      "text/plain": [
       "alt.Chart(...)"
      ]
     },
     "execution_count": 21,
     "metadata": {},
     "output_type": "execute_result"
    }
   ],
   "source": [
    "alt.Chart(household_4).mark_point().encode(\n",
    "x =\"hour\",\n",
    "y= \"sum\",\n",
    "color =\"date\"\n",
    ").interactive()"
   ]
  },
  {
   "cell_type": "code",
   "execution_count": null,
   "metadata": {},
   "outputs": [],
   "source": []
  }
 ],
 "metadata": {
  "kernelspec": {
   "display_name": "Python 3",
   "language": "python",
   "name": "python3"
  },
  "language_info": {
   "codemirror_mode": {
    "name": "ipython",
    "version": 3
   },
   "file_extension": ".py",
   "mimetype": "text/x-python",
   "name": "python",
   "nbconvert_exporter": "python",
   "pygments_lexer": "ipython3",
   "version": "3.7.3"
  }
 },
 "nbformat": 4,
 "nbformat_minor": 2
}
